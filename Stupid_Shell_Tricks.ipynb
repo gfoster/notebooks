{
 "cells": [
  {
   "cell_type": "markdown",
   "metadata": {},
   "source": [
    "# Stupid Shell Tricks"
   ]
  },
  {
   "cell_type": "markdown",
   "metadata": {},
   "source": [
    "----"
   ]
  },
  {
   "cell_type": "markdown",
   "metadata": {},
   "source": [
    "First things first... let's talk about shell redirection, STDIN, STDOUT, STDERR, all that fun stuff. In Unix, streams are how the shell communicates with you and most other processes. These streams are assigned file descriptors\n",
    "\n",
    " * STDOUT is the standard output stream and is fd(1)\n",
    " * STDIN is the standard input stream and is fd(3)\n",
    " * STDERR is where errors are displayed and is fd(2) <br />\n",
    "     some people erroneously dump errors to STDOUT. Those people should be publically mocked"
   ]
  },
  {
   "cell_type": "code",
   "execution_count": 1,
   "metadata": {
    "collapsed": false
   },
   "outputs": [
    {
     "name": "stdout",
     "output_type": "stream",
     "text": [
      "This is going to STDOUT\r\n",
      "This is going to STDERR\r\n"
     ]
    }
   ],
   "source": [
    "echo \"This is going to STDOUT\" >&1\n",
    "echo \"This is going to STDERR\" >&2"
   ]
  },
  {
   "cell_type": "markdown",
   "metadata": {},
   "source": [
    "There are three basic redirection operators. They are \">\", \"<\" and \"|\"<br />\n",
    " * `> redirects an output stream`\n",
    " * `< redirects an input stream`\n",
    " * `| connects STDOUT of one process to STDIN of another process`"
   ]
  },
  {
   "cell_type": "markdown",
   "metadata": {},
   "source": [
    "That means we can use the redirect operator to dump output of a command to a file, or even throw it away by piping it\n",
    "to /dev/null:"
   ]
  },
  {
   "cell_type": "code",
   "execution_count": null,
   "metadata": {
    "collapsed": false
   },
   "outputs": [],
   "source": [
    "cat /etc/passwd > /dev/null"
   ]
  },
  {
   "cell_type": "markdown",
   "metadata": {},
   "source": [
    "See? No output. This can be very handy for LARGE commands where you don't care about the output"
   ]
  },
  {
   "cell_type": "code",
   "execution_count": null,
   "metadata": {
    "collapsed": false
   },
   "outputs": [],
   "source": [
    "find -L /tmp -name \\* -exec touch {} \\; >/dev/null"
   ]
  },
  {
   "cell_type": "markdown",
   "metadata": {},
   "source": [
    "Wait? What? Where did all that come from? Oh, those are the STDERR stream. Yeah, I might want to see those errors.\n",
    "That's why dumping error output to STDOUT instead of STDERR is a crime against humanity. What if I don't want\n",
    "to see those errors after all? Simple, just redirect fd(2) to fd(1). Ordering is IMPORTANT here."
   ]
  },
  {
   "cell_type": "code",
   "execution_count": null,
   "metadata": {
    "collapsed": false
   },
   "outputs": [],
   "source": [
    "find -L /tmp -name \\* -exec touch {} \\; >/dev/null 2>&1"
   ]
  },
  {
   "cell_type": "markdown",
   "metadata": {
    "collapsed": true
   },
   "source": [
    "Voila, no output. There is an important thing to note about the distinction of '>' and '|'"
   ]
  },
  {
   "cell_type": "markdown",
   "metadata": {},
   "source": [
    "The > operator writes directly to a file descriptor. If you do not specify a stream, it will create or overwrite an existing file in the file system. The | operator connects two process, causing one process to read from another. There is a VERY large difference between these two commands:<br />\n",
    "\n",
    "```\n",
    "echo \"foo\" > test\n",
    "echo \"foo\" | test\n",
    "```"
   ]
  },
  {
   "cell_type": "markdown",
   "metadata": {},
   "source": [
    "It is also important to note that > is destructive. If you want an append operation instead, use \">>\""
   ]
  },
  {
   "cell_type": "code",
   "execution_count": null,
   "metadata": {
    "collapsed": true
   },
   "outputs": [],
   "source": [
    "Now we have the basics. We can use the above knowledge to start doing some fairly powerful things. The philosophy\n",
    "of Unix is that you should have a lot of tiny tools that do one or two things and do them very well. They should\n",
    "be able to read from STDIN and write to STDOUT and this allows us to build \"pipelines\" by connecting a series of\n",
    "these tools. Let's find out all the home directories that are in use right now that are legit (non-legit ones will\n",
    "be /var/empty). The home directories are in field 6 of the GECOS in the passwd file"
   ]
  },
  {
   "cell_type": "code",
   "execution_count": null,
   "metadata": {
    "collapsed": false
   },
   "outputs": [],
   "source": [
    "cat /etc/passwd | cut -f1,6 -d: | egrep -ve \"(^#|empty)\" "
   ]
  },
  {
   "cell_type": "code",
   "execution_count": null,
   "metadata": {
    "collapsed": true
   },
   "outputs": [],
   "source": [
    "Now, the above command would earn me the \"egregious use of cat\" award and prove that I don't truly understand shell\n",
    "redirection. Cat is an entirely unnecessary addition to the above pipeline, the better way to write it would be to\n",
    "use the < operator:"
   ]
  },
  {
   "cell_type": "code",
   "execution_count": null,
   "metadata": {
    "collapsed": false
   },
   "outputs": [],
   "source": [
    "egrep -ve \"(^#|empty)\" < /etc/passwd | cut -f1,6 -d:"
   ]
  },
  {
   "cell_type": "code",
   "execution_count": null,
   "metadata": {
    "collapsed": true
   },
   "outputs": [],
   "source": [
    "The above redirects the STDIN stream of egrep to read from the /etc/passwd file instead. However, since I\n",
    "also know that egrep accepts a filename on the commandline and only reads from STDIN if it's not present,\n",
    "I can actually remove the first redirect completely:"
   ]
  },
  {
   "cell_type": "code",
   "execution_count": null,
   "metadata": {
    "collapsed": false
   },
   "outputs": [],
   "source": [
    "egrep -ve \"(^#|empty)\" /etc/passwd | cut -f1,6 -d:"
   ]
  },
  {
   "cell_type": "code",
   "execution_count": null,
   "metadata": {
    "collapsed": true
   },
   "outputs": [],
   "source": [
    "Ok, how about something a bit more useful? First, let's set up some files."
   ]
  },
  {
   "cell_type": "code",
   "execution_count": null,
   "metadata": {
    "collapsed": false
   },
   "outputs": [],
   "source": [
    "# First, let's get our PID and use that to set up a temp directory\n",
    "my_pid=$$\n",
    "tmp_dir=/tmp/sst.$my_pid\n",
    "rm -Rf $tmp_dir\n",
    "\n",
    "mkdir -p $tmp_dir\n",
    "\n",
    "for i in 2 3 4 5 6 7 8 9 0; do echo \"foo\" > $tmp_dir/foo$i ; echo \"bar\" > $tmp_dir/bar$i ; done"
   ]
  },
  {
   "cell_type": "markdown",
   "metadata": {},
   "source": [
    "Now we should have a directory that contains 5 numbered \"foo\" and 5 numbered \"bar\" files."
   ]
  },
  {
   "cell_type": "code",
   "execution_count": null,
   "metadata": {
    "collapsed": false
   },
   "outputs": [],
   "source": [
    "ls $tmp_dir"
   ]
  },
  {
   "cell_type": "markdown",
   "metadata": {},
   "source": [
    "Let's do something fun with it. Let's play with the find command, which allows us to find files that match patterns,\n",
    "types, etc."
   ]
  },
  {
   "cell_type": "code",
   "execution_count": null,
   "metadata": {
    "collapsed": false
   },
   "outputs": [],
   "source": [
    "find $tmp_dir -name foo\\* -print"
   ]
  },
  {
   "cell_type": "code",
   "execution_count": null,
   "metadata": {
    "collapsed": false
   },
   "outputs": [],
   "source": [
    "grep 'foo' $tmp_dir/*"
   ]
  },
  {
   "cell_type": "markdown",
   "metadata": {},
   "source": [
    "Let's change the contents of all the foo files to \"baz\""
   ]
  },
  {
   "cell_type": "code",
   "execution_count": null,
   "metadata": {
    "collapsed": false
   },
   "outputs": [],
   "source": [
    "find $tmp_dir -name foo\\* -exec sed -e \"s/foo/baz/\" -i '' {} \\;\n",
    "grep 'baz' $tmp_dir/*"
   ]
  },
  {
   "cell_type": "markdown",
   "metadata": {},
   "source": [
    "There are multiple ways to do the above (for example you could use grep -R to recursively search). Find is an  **extremely** powerful swiss army knife, and is by default recursive. You can limit it to certain depths in the directory tree, find only files of certain types (such as directory nodes), etc.\n",
    "\n",
    "When you are manipulating files like this, any search method (grep, find, etc) can return a LARGE amount of files. Sometimes the list of files it returns will exceed the command line length limit for whatever you are passing them to . There's a way around this, and that is to use xargs which automatically breaks up long command lines and does multiple invocations where necessary."
   ]
  },
  {
   "cell_type": "code",
   "execution_count": null,
   "metadata": {
    "collapsed": false
   },
   "outputs": [],
   "source": [
    "grep -R \"bar\" $tmp_dir"
   ]
  },
  {
   "cell_type": "code",
   "execution_count": null,
   "metadata": {
    "collapsed": false
   },
   "outputs": [],
   "source": [
    "grep -R \"bar\" $tmp_dir | cut -d: -f1 | xargs sed -e \"s/bar/quux/\" -i ''"
   ]
  },
  {
   "cell_type": "code",
   "execution_count": null,
   "metadata": {
    "collapsed": false
   },
   "outputs": [],
   "source": [
    "grep -R \"quux\" $tmp_dir"
   ]
  },
  {
   "cell_type": "markdown",
   "metadata": {},
   "source": [
    "I used this exact technique to correct a lot of typos in the ansible directory in one shot\n",
    "```\n",
    "grep -R sentimel ~/projects/taskrabbit/tr_ansible/* | cut -d: -f1 | sort -u | xargs sed -i '.bak' 's/sentimel/sentinel/g'\n",
    "```"
   ]
  },
  {
   "cell_type": "markdown",
   "metadata": {},
   "source": [
    "I used this exact technique to correct a lot of typos in the ansible directory in one shot with a typical\n",
    "command-line junkie pipeline.\n",
    "\n",
    "First we'll use a recursive grep to return a list of files that had the word \"sentimel\" in them. The output looks vaguely like this:\n",
    "\n",
    "```\n",
    "$ grep -R sentimel ~/projects/taskrabbit/tr_ansible/*\n",
    "/dir1/dir2/file1:\"some random sentence with sentimel\"\n",
    "/dir3/dir4/file4:\"hahahaha sentimel ho ho ho\"\n",
    "/dir1/dir2/file1:\"oh look another random sentimel sighting\"\n",
    "/dir2/dir3/file2:\"blah blah sentimel\"\n",
    "```\n",
    "\n",
    "First thing is that we need JUST the file name. We can get this with the ```cut``` utility, telling it to delimit fields with a : character and give us the second field. That means we now have a list that looks like:\n",
    "\n",
    "```\n",
    "$ grep -R sentimel ~/projects/taskrabbit/tr_ansible/* | cut -f1 -d:\n",
    "/dir1/dir2/file1\n",
    "/dir3/dir4/file4\n",
    "/dir1/dir2/file1\n",
    "/dir2/dir3/file2\n",
    "```\n",
    "\n",
    "Now you'll notice we have a some duplicate files. We only need to run sed on a file once to correct everything in that file, so let's dedupe the list  with ```sort -u``` which will sort the list and then remove any dupes. Now we have:\n",
    "\n",
    "```\n",
    "$ grep -R sentimel ~/projects/taskrabbit/tr_ansible/* | cut -f1 -d: | sort -u\n",
    "\n",
    "/dir1/dir2/file1\n",
    "/dir2/dir3/file2\n",
    "/dir3/dir4/file4\n",
    "```\n",
    "\n",
    "Now we tell sed to edit in-place each of these files, changing every occurance of \"sentimel\" to \"sentinel\". We keep a backup file of the original file by copying it in place to a new file with the extension \".bak\" on it. We pass this all through xargs because we may get a potentially huge list of files back from the grep.\n",
    "\n",
    "```\n",
    "$ grep -R sentimel ~/projects/taskrabbit/tr_ansible/* | cut -f1 -d: | sort -u | xargs sed -i '.bak' 's/sentimel/sentinel/g'\n",
    "```\n",
    "\n",
    "There you go, we corrected every occurance with one shell pipeline. Once we have verified our work, we can remove all the .bak files:\n",
    "\n",
    "```\n",
    "$ find ~/projects/taskrabbit/tr_ansible -name \\*.bak -exec rm {} \\;\n",
    "```"
   ]
  }
 ],
 "metadata": {
  "kernelspec": {
   "display_name": "Bash",
   "language": "bash",
   "name": "bash"
  },
  "language_info": {
   "codemirror_mode": "shell",
   "file_extension": ".sh",
   "mimetype": "text/x-sh",
   "name": "bash"
  }
 },
 "nbformat": 4,
 "nbformat_minor": 0
}
